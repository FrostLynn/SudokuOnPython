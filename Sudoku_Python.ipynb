{
  "nbformat": 4,
  "nbformat_minor": 0,
  "metadata": {
    "colab": {
      "provenance": []
    },
    "kernelspec": {
      "name": "python3",
      "display_name": "Python 3"
    },
    "language_info": {
      "name": "python"
    }
  },
  "cells": [
    {
      "cell_type": "markdown",
      "source": [
        "Program ini menggunakan teknik yang umumnya disebut \"Backtracking\" untuk menyelesaikan papan Sudoku.\n",
        "Backtracking adalah pendekatan algoritma yang digunakan untuk menemukan solusi optimal atau mengatasi masalah kombinatorial dengan cara mencoba semua kemungkinan secara sistematis.\n",
        "Berikut cara kerja algoritma backtracking dalam program ini:\n",
        "\n",
        "1. Algoritma ini mengiterasi sel-sel papan Sudoku satu per satu, dimulai dari sudut kiri atas dan bergerak dari baris ke baris.\n",
        "\n",
        "2. Ketika menemui sel kosong (yang direpresentasikan dengan angka 0), algoritma mencoba mengisinya dengan angka dari 1 hingga 9, satu per satu.\n",
        "\n",
        "3. Sebelum menempatkan angka dalam sel tersebut, algoritma memeriksa apakah angka tersebut valid sesuai dengan aturan Sudoku. Algoritma memverifikasi bahwa angka tersebut belum ada dalam baris yang sama, kolom yang sama, atau subgrid 3x3 yang sama.\n",
        "\n",
        "4. Jika angka yang valid ditemukan, algoritma menempatkan angka tersebut dalam sel dan melanjutkan ke sel kosong berikutnya.\n",
        "\n",
        "5. Jika algoritma mencapai titik di mana tidak ada angka yang valid yang bisa ditempatkan dalam sel saat ini tanpa melanggar aturan, algoritma akan melakukan backtracking ke sel sebelumnya dan mencoba angka valid berikutnya.\n",
        "\n",
        "6. Algoritma ini mengulangi proses ini secara rekursif hingga berhasil mengisi semua sel (solusi ditemukan) atau melakukan eksplorasi secara menyeluruh terhadap semua kemungkinan untuk setiap sel kosong tanpa menemukan solusi.\n",
        "\n",
        "7. Jika solusi ditemukan, program akan mencetak papan Sudoku yang telah terselesaikan. Jika tidak ada solusi yang ada untuk teka-teki yang diberikan, algoritma akan melakukan backtracking sampai ke awal dan menyimpulkan bahwa tidak ada solusi.\n",
        "\n",
        "Algoritma backtracking adalah metode umum dan efektif untuk menyelesaikan teka-teki Sudoku karena secara sistematis menjelajahi solusi yang mungkin dan dengan efisien menghilangkan pilihan yang tidak valid, sehingga mengarah ke solusi yang benar."
      ],
      "metadata": {
        "id": "G3UhpisF3HFd"
      }
    },
    {
      "cell_type": "markdown",
      "source": [
        "**Mengimpor library NumPy untuk bekerja dengan matriks dan array dalam bahasa Python.**"
      ],
      "metadata": {
        "id": "P7MB7bMANXMu"
      }
    },
    {
      "cell_type": "code",
      "source": [
        "import numpy as np"
      ],
      "metadata": {
        "id": "px05sENXNbWW"
      },
      "execution_count": null,
      "outputs": []
    },
    {
      "cell_type": "markdown",
      "source": [
        "**Fungsi ini digunakan untuk mencetak papan Sudoku dalam format yang mudah dibaca. Jika papan tidak memiliki bentuk 9x9 atau bukan merupakan array NumPy, maka program akan mencetak pesan kesalahan.**"
      ],
      "metadata": {
        "id": "RjWT1n4INetG"
      }
    },
    {
      "cell_type": "code",
      "source": [
        "def cetak_sudoku(board):\n",
        "    \"\"\"\n",
        "    Mencetak sebuah array 9x9 yang merepresentasikan sebuah papan sudoku yang mudah dibaca.\n",
        "    \"\"\"\n",
        "    if board.shape != (9, 9) or type(board) != np.ndarray:\n",
        "        print(\"Papan sudoku tidak valid\")\n",
        "        return\n",
        "\n",
        "    for i in range(9):\n",
        "        if i % 3 == 0 and i != 0:\n",
        "            print(\"-\" * 21)\n",
        "        for j in range(9):\n",
        "            if j % 3 == 0 and j != 0:\n",
        "                print(\"|\", end=\" \")\n",
        "            if board[i, j] == 0:\n",
        "                print(\"_\", end=\" \")\n",
        "            else:\n",
        "                print(board[i, j], end=\" \")\n",
        "        print()"
      ],
      "metadata": {
        "id": "e9Y8zFTxO7uG"
      },
      "execution_count": null,
      "outputs": []
    },
    {
      "cell_type": "markdown",
      "source": [
        "**Fungsi ini digunakan untuk memeriksa apakah suatu angka dapat ditempatkan di baris dan kolom tertentu pada papan Sudoku tanpa melanggar aturan Sudoku.**"
      ],
      "metadata": {
        "id": "2j9Ib55-P3BI"
      }
    },
    {
      "cell_type": "code",
      "source": [
        "def is_valid(board, row, col, num):\n",
        "    for i in range(9):\n",
        "        if board[row][i] == num or board[i][col] == num:\n",
        "            return False\n",
        "    start_row, start_col = 3 * (row // 3), 3 * (col // 3)\n",
        "    for i in range(3):\n",
        "        for j in range(3):\n",
        "            if board[i + start_row][j + start_col] == num:\n",
        "                return False\n",
        "    return True"
      ],
      "metadata": {
        "id": "lqMF1cyZP5uC"
      },
      "execution_count": null,
      "outputs": []
    },
    {
      "cell_type": "markdown",
      "source": [
        "**Fungsi ini adalah inti dari program yang mencoba untuk memecahkan papan Sudoku. Ini melakukan pencarian rekursif dan mencoba untuk menempatkan angka di sel-sel yang kosong sesuai dengan aturan Sudoku.**"
      ],
      "metadata": {
        "id": "F6rU8Y4VP9pz"
      }
    },
    {
      "cell_type": "code",
      "source": [
        "def solve_sudoku(board):\n",
        "    for row in range(9):\n",
        "        for col in range(9):\n",
        "            if board[row][col] == 0:\n",
        "                for num in range(1, 10):\n",
        "                    if is_valid(board, row, col, num):\n",
        "                        board[row][col] = num\n",
        "                        if solve_sudoku(board):\n",
        "                            return True\n",
        "                        board[row][col] = 0\n",
        "                return False\n",
        "    return True"
      ],
      "metadata": {
        "id": "CHB9u9sMP_WF"
      },
      "execution_count": null,
      "outputs": []
    },
    {
      "cell_type": "markdown",
      "source": [
        "**Menginisialisasi papan sudoku**"
      ],
      "metadata": {
        "id": "24yJmkPSQchV"
      }
    },
    {
      "cell_type": "code",
      "source": [
        "board = np.array([\n",
        "    [0, 6, 0, 0, 2, 0, 0, 0, 0],\n",
        "    [0, 0, 0, 8, 0, 0, 5, 0, 0],\n",
        "    [0, 0, 1, 0, 0, 0, 0, 0, 0],\n",
        "    [7, 0, 0, 0, 3, 0, 2, 0, 0],\n",
        "    [0, 9, 0, 0, 0, 6, 0, 0, 0],\n",
        "    [0, 0, 0, 0, 0, 0, 8, 0, 0],\n",
        "    [0, 0, 0, 9, 0, 1, 0, 6, 0],\n",
        "    [8, 0, 0, 4, 0, 0, 0, 0, 7],\n",
        "    [0, 0, 0, 0, 0, 0, 0, 0, 0]\n",
        "], dtype=int)"
      ],
      "metadata": {
        "id": "Ceki0O3eQb16"
      },
      "execution_count": null,
      "outputs": []
    },
    {
      "cell_type": "markdown",
      "source": [
        "**Program mencetak papan Sudoku awal sebelum mencoba memecahkannya.**"
      ],
      "metadata": {
        "id": "zbkTZpb8QnQt"
      }
    },
    {
      "cell_type": "code",
      "source": [
        "print(\"Initial Sudoku:\")\n",
        "cetak_sudoku(board)"
      ],
      "metadata": {
        "colab": {
          "base_uri": "https://localhost:8080/"
        },
        "id": "tSot2YoJQoo8",
        "outputId": "25ec34be-8577-4855-aefd-325dff72fd37"
      },
      "execution_count": null,
      "outputs": [
        {
          "output_type": "stream",
          "name": "stdout",
          "text": [
            "Initial Sudoku:\n",
            "_ 6 _ | _ 2 _ | _ _ _ \n",
            "_ _ _ | 8 _ _ | 5 _ _ \n",
            "_ _ 1 | _ _ _ | _ _ _ \n",
            "---------------------\n",
            "7 _ _ | _ 3 _ | 2 _ _ \n",
            "_ 9 _ | _ _ 6 | _ _ _ \n",
            "_ _ _ | _ _ _ | 8 _ _ \n",
            "---------------------\n",
            "_ _ _ | 9 _ 1 | _ 6 _ \n",
            "8 _ _ | 4 _ _ | _ _ 7 \n",
            "_ _ _ | _ _ _ | _ _ _ \n"
          ]
        }
      ]
    },
    {
      "cell_type": "markdown",
      "source": [
        "**Program mencoba untuk memecahkan papan Sudoku dengan menggunakan fungsi solve_sudoku(board). Jika solusi ditemukan, hasilnya akan dicetak. Jika tidak, pesan \"No solution found\" akan ditampilkan.**"
      ],
      "metadata": {
        "id": "gI9vGMUAQqX5"
      }
    },
    {
      "cell_type": "code",
      "source": [
        "if solve_sudoku(board):\n",
        "    print(\"\\nSudoku Selesai:\")\n",
        "    cetak_sudoku(board)\n",
        "else:\n",
        "    print(\"\\nTidak ada solusi yang ditemukan.\")"
      ],
      "metadata": {
        "colab": {
          "base_uri": "https://localhost:8080/"
        },
        "id": "b569IlMyQuZK",
        "outputId": "980a20a1-dd87-491c-ca5a-6f11ecb9cc79"
      },
      "execution_count": null,
      "outputs": [
        {
          "output_type": "stream",
          "name": "stdout",
          "text": [
            "\n",
            "Solved Sudoku:\n",
            "4 6 3 | 1 2 5 | 7 8 9 \n",
            "9 2 7 | 8 6 4 | 5 3 1 \n",
            "5 8 1 | 3 9 7 | 6 2 4 \n",
            "---------------------\n",
            "7 1 4 | 5 3 8 | 2 9 6 \n",
            "3 9 8 | 2 4 6 | 1 7 5 \n",
            "6 5 2 | 7 1 9 | 8 4 3 \n",
            "---------------------\n",
            "2 4 5 | 9 7 1 | 3 6 8 \n",
            "8 3 6 | 4 5 2 | 9 1 7 \n",
            "1 7 9 | 6 8 3 | 4 5 2 \n"
          ]
        }
      ]
    }
  ]
}